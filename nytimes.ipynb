{
 "cells": [
  {
   "cell_type": "code",
   "execution_count": 127,
   "metadata": {},
   "outputs": [],
   "source": [
    "import json, requests\n",
    "from bs4 import BeautifulSoup\n",
    "import sys\n",
    "import time\n",
    "import urllib.parse as urlparse\n",
    "from urllib.parse import urlencode"
   ]
  },
  {
   "cell_type": "code",
   "execution_count": 128,
   "metadata": {},
   "outputs": [],
   "source": [
    "u = 'http://api.nytimes.com/svc/search/v2/articlesearch.json'\n",
    "datePair = [('20180326', '20180327'), ('20180328', '20180329'), ('20180330', '20180331'), ('20180401', '20180402')]"
   ]
  },
  {
   "cell_type": "code",
   "execution_count": 129,
   "metadata": {},
   "outputs": [],
   "source": [
    "parameter = {\n",
    "    'api-key': \"your key\",\n",
    "    'q': \"big data\",\n",
    "    'begin_date': \"20180326\",\n",
    "    'end_date': \"20180327\",\n",
    "    'page':0\n",
    "}"
   ]
  },
  {
   "cell_type": "code",
   "execution_count": 130,
   "metadata": {},
   "outputs": [],
   "source": [
    "def getUrl(u,parameter):\n",
    "    url_parts = list(urlparse.urlparse(u))\n",
    "    query = dict(urlparse.parse_qsl(url_parts[4]))\n",
    "    query.update(parameter)\n",
    "    url_parts[4] = urlencode(query)\n",
    "    return urlparse.urlunparse(url_parts)"
   ]
  },
  {
   "cell_type": "code",
   "execution_count": 131,
   "metadata": {},
   "outputs": [],
   "source": [
    "def getHtmltxt(docid,jsdata):\n",
    "    webpage = requests.get(jsdata[\"response\"][\"docs\"][docid][\"web_url\"])\n",
    "    soup = BeautifulSoup(webpage.text, 'html.parser')\n",
    "    p = soup.find_all('p')\n",
    "    soup = BeautifulSoup(' '.join(str(i) for i in p), 'html.parser')\n",
    "    return soup.getText()"
   ]
  },
  {
   "cell_type": "code",
   "execution_count": 132,
   "metadata": {},
   "outputs": [],
   "source": [
    "page = 0"
   ]
  },
  {
   "cell_type": "code",
   "execution_count": 133,
   "metadata": {},
   "outputs": [],
   "source": [
    "def tryGetData(url):\n",
    "    resp = requests.get(url)\n",
    "    data = json.loads(resp.text)\n",
    "    try:\n",
    "        hits = data['response']['meta']['hits']\n",
    "    except KeyError:\n",
    "        print(data)\n",
    "        time.sleep(10)\n",
    "        data,hits = tryGetData(url)\n",
    "    return data,hits"
   ]
  },
  {
   "cell_type": "code",
   "execution_count": 134,
   "metadata": {},
   "outputs": [
    {
     "name": "stdout",
     "output_type": "stream",
     "text": [
      "got 175 results from this date\n",
      "http://api.nytimes.com/svc/search/v2/articlesearch.json?api-key=46c1eeb270c94547869a041d823b86ac&q=big+data&begin_date=20180326&end_date=20180327&page=0\n",
      "{'message': 'API rate limit exceeded'}\n",
      "got 220 results from this date\n",
      "http://api.nytimes.com/svc/search/v2/articlesearch.json?api-key=46c1eeb270c94547869a041d823b86ac&q=big+data&begin_date=20180328&end_date=20180329&page=0\n",
      "{'message': 'API rate limit exceeded'}\n",
      "got 152 results from this date\n",
      "http://api.nytimes.com/svc/search/v2/articlesearch.json?api-key=46c1eeb270c94547869a041d823b86ac&q=big+data&begin_date=20180330&end_date=20180331&page=0\n",
      "{'message': 'API rate limit exceeded'}\n",
      "got 92 results from this date\n",
      "http://api.nytimes.com/svc/search/v2/articlesearch.json?api-key=46c1eeb270c94547869a041d823b86ac&q=big+data&begin_date=20180401&end_date=20180402&page=0\n"
     ]
    }
   ],
   "source": [
    "for dPair in datePair:# each 2 days' data\n",
    "    parameter['begin_date'],parameter['end_date'] = dPair\n",
    "    parameter['page'] = page\n",
    "    url = getUrl(u,parameter)\n",
    "    data,hits = tryGetData(url)\n",
    "    docid = 0\n",
    "    print(f'got {hits} results from this date')\n",
    "    print(url)\n",
    "    time.sleep(1)\n",
    "    while(hits>=1):\n",
    "        f= open(f\"NewsData/{dPair[0]}-{dPair[1]}.txt\",\"a\",encoding='utf-8')\n",
    "        try:\n",
    "            ids = len(data[\"response\"][\"docs\"])\n",
    "        except KeyError:\n",
    "            print(data)\n",
    "            time.sleep(10)\n",
    "            continue\n",
    "        for docid in range(ids):\n",
    "            f.writelines(getHtmltxt(docid,data) + \"\\n\")\n",
    "            hits -= 1\n",
    "            if(hits<1):\n",
    "                break\n",
    "        page += 1\n",
    "        if(page>200):\n",
    "            break\n",
    "        parameter['page'] = page\n",
    "        url = getUrl(u,parameter)\n",
    "        resp = requests.get(url)\n",
    "        if(hits<1):\n",
    "            break\n",
    "        data = json.loads(resp.text)\n",
    "        f.close()\n",
    "        time.sleep(1)\n",
    "    page = 0         "
   ]
  },
  {
   "cell_type": "code",
   "execution_count": 126,
   "metadata": {},
   "outputs": [],
   "source": [
    "f.close()"
   ]
  }
 ],
 "metadata": {
  "kernelspec": {
   "display_name": "Python 3",
   "language": "python",
   "name": "python3"
  },
  "language_info": {
   "codemirror_mode": {
    "name": "ipython",
    "version": 3
   },
   "file_extension": ".py",
   "mimetype": "text/x-python",
   "name": "python",
   "nbconvert_exporter": "python",
   "pygments_lexer": "ipython3",
   "version": "3.6.3"
  }
 },
 "nbformat": 4,
 "nbformat_minor": 2
}
