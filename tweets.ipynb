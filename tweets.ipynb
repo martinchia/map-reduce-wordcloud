{
 "cells": [
  {
   "cell_type": "code",
   "execution_count": 128,
   "metadata": {},
   "outputs": [],
   "source": [
    "import json, requests"
   ]
  },
  {
   "cell_type": "code",
   "execution_count": 250,
   "metadata": {},
   "outputs": [],
   "source": [
    "import tweepy"
   ]
  },
  {
   "cell_type": "code",
   "execution_count": 251,
   "metadata": {},
   "outputs": [],
   "source": [
    "auth = tweepy.OAuthHandler(consumer_key='p7YYzOKygFd6UkLl2KrmlouAl',\n",
    "                           consumer_secret='9Pq35PueqCRpvDCn7kURvUHz3JxD655pWx05lLJ2N6Y3G59HFo')\n",
    "auth.set_access_token(key = '2257462748-PJEn4g25gVVdgxq24Hs6EuZeDiLpoIg6J9WaxBL',\n",
    "                      secret = 'bF3bdt11XEAfZerK2ybaff79fyVbHvAGnYvKQM0LvJEED')\n",
    "api = tweepy.API(auth,wait_on_rate_limit = True)"
   ]
  },
  {
   "cell_type": "code",
   "execution_count": 89,
   "metadata": {},
   "outputs": [],
   "source": [
    "i = api.search(q = \"big+data\", count = 1, tweet_mode='extended')#980830655184605184"
   ]
  },
  {
   "cell_type": "code",
   "execution_count": 122,
   "metadata": {},
   "outputs": [],
   "source": [
    "minID = \"980830655184605184\"\n",
    "f = open(f\"TwitterData/tweets.txt\",\"w+\",encoding='utf-8')"
   ]
  },
  {
   "cell_type": "code",
   "execution_count": 252,
   "metadata": {},
   "outputs": [],
   "source": [
    "f = open(f\"TwitterData/tweets.txt\",\"a\",encoding='utf-8')"
   ]
  },
  {
   "cell_type": "code",
   "execution_count": 253,
   "metadata": {},
   "outputs": [
    {
     "name": "stdout",
     "output_type": "stream",
     "text": [
      "min() arg is an empty sequence\n"
     ]
    }
   ],
   "source": [
    "while True:\n",
    "    try:\n",
    "        tweets = api.search(q = \"big+data\", count = 100, tweet_mode='extended', max_id = minID)  \n",
    "        for tweet in tweets:\n",
    "            f.writelines(f'{tweet.full_text}\\n')\n",
    "        minID = min(tweets, key= lambda t: t.id).id\n",
    "    except Exception as e:\n",
    "        print(e)\n",
    "        break"
   ]
  },
  {
   "cell_type": "code",
   "execution_count": 121,
   "metadata": {},
   "outputs": [],
   "source": [
    "f.close()"
   ]
  }
 ],
 "metadata": {
  "kernelspec": {
   "display_name": "Python 3",
   "language": "python",
   "name": "python3"
  },
  "language_info": {
   "codemirror_mode": {
    "name": "ipython",
    "version": 3
   },
   "file_extension": ".py",
   "mimetype": "text/x-python",
   "name": "python",
   "nbconvert_exporter": "python",
   "pygments_lexer": "ipython3",
   "version": "3.6.3"
  }
 },
 "nbformat": 4,
 "nbformat_minor": 2
}
