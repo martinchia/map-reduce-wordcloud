{
 "cells": [
  {
   "cell_type": "code",
   "execution_count": 8,
   "metadata": {},
   "outputs": [],
   "source": [
    "import json\n",
    "import pandas as pd\n",
    "import numpy as np"
   ]
  },
  {
   "cell_type": "code",
   "execution_count": 11,
   "metadata": {},
   "outputs": [],
   "source": [
    "def wordcloudgetter(fwords,fcloud,times):\n",
    "    line = fwords.readline()\n",
    "    d = 0\n",
    "    wordcloud = \"var words = [\\n\"\n",
    "    while(line):\n",
    "        word,count = line.strip().split('\\t')\n",
    "        wordcloud += \"{text:'%s',size:%s},\\n\" % (word,count)\n",
    "        line = fwords.readline()\n",
    "        d += 1\n",
    "        if(d > times):\n",
    "            break\n",
    "    wordcloud += '];'\n",
    "    fcloud.write(wordcloud)"
   ]
  },
  {
   "cell_type": "code",
   "execution_count": 12,
   "metadata": {},
   "outputs": [],
   "source": [
    "fNews = open(\"NewsOutput/part-00000\",'r')\n",
    "fwordcloud = open(\"wordcloudNews/example/example.words.js\",'w')\n",
    "wordcloudgetter(fNews,fwordcloud, 40)\n",
    "fNews.close()\n",
    "fwordcloud.close()"
   ]
  },
  {
   "cell_type": "code",
   "execution_count": 13,
   "metadata": {},
   "outputs": [],
   "source": [
    "fNews = open(\"TwitterOutput/part-00000\",'r')\n",
    "fwordcloud = open(\"wordcloudTwitter/example/example.words.js\",'w')\n",
    "wordcloudgetter(fNews,fwordcloud, 40)\n",
    "fNews.close()\n",
    "fwordcloud.close()"
   ]
  }
 ],
 "metadata": {
  "kernelspec": {
   "display_name": "Python 3",
   "language": "python",
   "name": "python3"
  },
  "language_info": {
   "codemirror_mode": {
    "name": "ipython",
    "version": 3
   },
   "file_extension": ".py",
   "mimetype": "text/x-python",
   "name": "python",
   "nbconvert_exporter": "python",
   "pygments_lexer": "ipython3",
   "version": "3.6.3"
  }
 },
 "nbformat": 4,
 "nbformat_minor": 2
}
