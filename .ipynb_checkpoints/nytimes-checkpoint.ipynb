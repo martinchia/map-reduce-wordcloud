{
 "cells": [
  {
   "cell_type": "code",
   "execution_count": 1,
   "metadata": {},
   "outputs": [],
   "source": [
    "import json, requests\n",
    "from bs4 import BeautifulSoup\n",
    "import sys\n",
    "import time"
   ]
  },
  {
   "cell_type": "code",
   "execution_count": 55,
   "metadata": {},
   "outputs": [],
   "source": [
    "apiKey = \"46c1eeb270c94547869a041d823b86ac\"\n",
    "page = 0\n",
    "text = ''\n",
    "date = ['20180326', '20180327', '20180328', '20180329', '20180330', '20180331', '20180401', '20180402']\n",
    "begindate = 2\n",
    "enddate = 3"
   ]
  },
  {
   "cell_type": "code",
   "execution_count": 64,
   "metadata": {},
   "outputs": [
    {
     "name": "stdout",
     "output_type": "stream",
     "text": [
      "try again\n",
      "try again\n",
      "try again\n",
      "page cannot be greater than 200\n",
      "new period\n"
     ]
    },
    {
     "ename": "KeyError",
     "evalue": "'response'",
     "output_type": "error",
     "traceback": [
      "\u001b[1;31m---------------------------------------------------------------------------\u001b[0m",
      "\u001b[1;31mKeyError\u001b[0m                                  Traceback (most recent call last)",
      "\u001b[1;32m<ipython-input-64-0deafcb6c1f8>\u001b[0m in \u001b[0;36m<module>\u001b[1;34m()\u001b[0m\n\u001b[0;32m     17\u001b[0m             \u001b[1;32mcontinue\u001b[0m\u001b[1;33m\u001b[0m\u001b[0m\n\u001b[0;32m     18\u001b[0m \u001b[1;33m\u001b[0m\u001b[0m\n\u001b[1;32m---> 19\u001b[1;33m         \u001b[1;32mif\u001b[0m\u001b[1;33m(\u001b[0m\u001b[0mlen\u001b[0m\u001b[1;33m(\u001b[0m\u001b[0mdata\u001b[0m\u001b[1;33m[\u001b[0m\u001b[1;34m\"response\"\u001b[0m\u001b[1;33m]\u001b[0m\u001b[1;33m[\u001b[0m\u001b[1;34m\"docs\"\u001b[0m\u001b[1;33m]\u001b[0m\u001b[1;33m)\u001b[0m \u001b[1;33m==\u001b[0m \u001b[1;36m0\u001b[0m\u001b[1;33m)\u001b[0m\u001b[1;33m:\u001b[0m\u001b[1;33m\u001b[0m\u001b[0m\n\u001b[0m\u001b[0;32m     20\u001b[0m             \u001b[0mprint\u001b[0m\u001b[1;33m(\u001b[0m\u001b[1;34m\"new period\"\u001b[0m\u001b[1;33m)\u001b[0m\u001b[1;33m\u001b[0m\u001b[0m\n\u001b[0;32m     21\u001b[0m             \u001b[0mpage\u001b[0m \u001b[1;33m=\u001b[0m \u001b[1;36m0\u001b[0m\u001b[1;33m\u001b[0m\u001b[0m\n",
      "\u001b[1;31mKeyError\u001b[0m: 'response'"
     ]
    }
   ],
   "source": [
    "while True:\n",
    "    try:\n",
    "        url = 'http://api.nytimes.com/svc/search/v2/articlesearch.json?'+ \\\n",
    "        f'q=big+data&?begin_date={date[begindate]}&end_date={date[enddate]}&page={page}&' + \\\n",
    "        f'api-key={apiKey}' # each 3 days' data\n",
    "        resp = requests.get(url)\n",
    "        \n",
    "        if(resp.text == ''):\n",
    "            print('try again')\n",
    "            continue\n",
    "        data = json.loads(resp.text)   \n",
    "        \n",
    "        if(page > 200):\n",
    "            print(\"page cannot be greater than 200\")\n",
    "            print(\"new period\")\n",
    "            page = 0\n",
    "            begindate += 2\n",
    "            enddate += 2\n",
    "            continue\n",
    "        \n",
    "        if(len(data[\"response\"][\"docs\"]) == 0):\n",
    "            print(\"new period\")\n",
    "            page = 0\n",
    "            begindate += 2\n",
    "            enddate += 2\n",
    "            continue\n",
    "            \n",
    "        if(enddate > 8):\n",
    "            print(\"all date has been handled\")\n",
    "            break\n",
    "                \n",
    "        f= open(f\"NewsData/{date[begindate]}-{date[enddate]}.txt\",\"a\",encoding='utf-8')\n",
    "        \n",
    "        for j in range(0,10):\n",
    "            webpage = requests.get(data[\"response\"][\"docs\"][j][\"web_url\"])\n",
    "            soup = BeautifulSoup(webpage.text, 'html.parser')\n",
    "            p = soup.find_all('p')\n",
    "            soup = BeautifulSoup(' '.join(str(i) for i in p), 'html.parser')\n",
    "            f.writelines(soup.getText() + \"\\n\")\n",
    "        f.close()\n",
    "        page = page+1\n",
    "        time.sleep(1)\n",
    "            \n",
    "    except ConnectionError:\n",
    "        dayLimit = resp.headers[\"X-RateLimit-Remaining-day\"]\n",
    "        if(dayLimit == 0):\n",
    "            print(\"reached day limit\\n\")\n",
    "            break\n",
    "        else:\n",
    "            remainSec = resp.headers[\"X-RateLimit-Remaining-second\"]\n",
    "            print(f\"time limit {remainSec}\")\n",
    "            time.sleep(remainSec)\n",
    "            continue"
   ]
  },
  {
   "cell_type": "code",
   "execution_count": 65,
   "metadata": {},
   "outputs": [
    {
     "data": {
      "text/plain": [
       "{'Content-Type': 'application/json; charset=utf-8', 'Date': 'Wed, 04 Apr 2018 06:04:26 GMT', 'Server': 'kong/0.9.5', 'X-RateLimit-Limit-day': '1000', 'X-RateLimit-Limit-second': '1', 'X-RateLimit-Remaining-day': '799', 'X-RateLimit-Remaining-second': '0', 'Content-Length': '38', 'Connection': 'keep-alive'}"
      ]
     },
     "execution_count": 65,
     "metadata": {},
     "output_type": "execute_result"
    }
   ],
   "source": [
    "resp.headers"
   ]
  },
  {
   "cell_type": "code",
   "execution_count": 48,
   "metadata": {},
   "outputs": [],
   "source": [
    "f.close()"
   ]
  }
 ],
 "metadata": {
  "kernelspec": {
   "display_name": "Python 3",
   "language": "python",
   "name": "python3"
  },
  "language_info": {
   "codemirror_mode": {
    "name": "ipython",
    "version": 3
   },
   "file_extension": ".py",
   "mimetype": "text/x-python",
   "name": "python",
   "nbconvert_exporter": "python",
   "pygments_lexer": "ipython3",
   "version": "3.6.3"
  }
 },
 "nbformat": 4,
 "nbformat_minor": 2
}
